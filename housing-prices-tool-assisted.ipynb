{
 "cells": [
  {
   "attachments": {},
   "cell_type": "markdown",
   "metadata": {},
   "source": [
    "<h3>Tool assisted housing prices</h3>\n",
    "\n",
    "The goal of this notebook is to work through this project a la typical kaggle style approach with a heavy sprinkle of chatGPT's help.\n",
    "The primary objective is to use chatGPT as a tool.\n",
    "Some possible questions to answer at the end:\n",
    "\n",
    "    1. what problems did you have using chatgpt\n",
    "    2. how did you prompt chatgpt\n",
    "    3. where did you believe chatgpt helped the most in the process\n",
    "    4. how would you rate chatgpt's effectiveness in its answers\n",
    "\n",
    "Below is a list of tasks to accomplish.\n",
    "I want chatGPT to assist in each of the tasks.\n",
    "I'll document my prompts (somehow, no idea yet) and answers:\n",
    "\n",
    "    1. Data setup\n",
    "    2. EDA\n",
    "    3. Pipeline\n",
    "    4. Modeling\n",
    "    5. Feature engineering\n",
    "    6. Ensemble"
   ]
  },
  {
   "cell_type": "code",
   "execution_count": 1,
   "metadata": {},
   "outputs": [
    {
     "ename": "ModuleNotFoundError",
     "evalue": "No module named 'pandas'",
     "output_type": "error",
     "traceback": [
      "\u001b[1;31m---------------------------------------------------------------------------\u001b[0m",
      "\u001b[1;31mModuleNotFoundError\u001b[0m                       Traceback (most recent call last)",
      "Cell \u001b[1;32mIn[1], line 1\u001b[0m\n\u001b[1;32m----> 1\u001b[0m \u001b[39mimport\u001b[39;00m \u001b[39mpandas\u001b[39;00m \u001b[39mas\u001b[39;00m \u001b[39mpd\u001b[39;00m\n",
      "\u001b[1;31mModuleNotFoundError\u001b[0m: No module named 'pandas'"
     ]
    }
   ],
   "source": [
    "import pandas as pd"
   ]
  },
  {
   "cell_type": "code",
   "execution_count": null,
   "metadata": {},
   "outputs": [],
   "source": []
  }
 ],
 "metadata": {
  "kernelspec": {
   "display_name": "Python 3",
   "language": "python",
   "name": "python3"
  },
  "language_info": {
   "codemirror_mode": {
    "name": "ipython",
    "version": 3
   },
   "file_extension": ".py",
   "mimetype": "text/x-python",
   "name": "python",
   "nbconvert_exporter": "python",
   "pygments_lexer": "ipython3",
   "version": "3.11.4"
  },
  "orig_nbformat": 4
 },
 "nbformat": 4,
 "nbformat_minor": 2
}
